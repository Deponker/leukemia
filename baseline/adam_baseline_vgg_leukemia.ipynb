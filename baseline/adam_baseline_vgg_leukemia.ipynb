{
 "cells": [
  {
   "cell_type": "code",
   "execution_count": 1,
   "metadata": {
    "execution": {
     "iopub.execute_input": "2021-06-14T11:34:50.100371Z",
     "iopub.status.busy": "2021-06-14T11:34:50.099833Z",
     "iopub.status.idle": "2021-06-14T11:34:55.878941Z",
     "shell.execute_reply": "2021-06-14T11:34:55.878058Z",
     "shell.execute_reply.started": "2021-06-14T11:34:50.100290Z"
    }
   },
   "outputs": [],
   "source": [
    "import numpy as np\n",
    "import os\n",
    "import cv2\n",
    "import matplotlib.pyplot as plt\n",
    "%matplotlib inline\n",
    "import operator\n",
    "import tensorflow as tf\n",
    "import random"
   ]
  },
  {
   "cell_type": "code",
   "execution_count": null,
   "metadata": {},
   "outputs": [],
   "source": []
  },
  {
   "cell_type": "code",
   "execution_count": 2,
   "metadata": {
    "execution": {
     "iopub.execute_input": "2021-06-14T11:34:55.880460Z",
     "iopub.status.busy": "2021-06-14T11:34:55.880221Z",
     "iopub.status.idle": "2021-06-14T11:34:55.884181Z",
     "shell.execute_reply": "2021-06-14T11:34:55.882978Z",
     "shell.execute_reply.started": "2021-06-14T11:34:55.880437Z"
    }
   },
   "outputs": [],
   "source": [
    "DIRECTORY = r'../input/train-set/train'\n",
    "VAL_DIRECTORY = r'../input/val-set'\n",
    "\n",
    "CATEGORIES = ['all', 'hem']"
   ]
  },
  {
   "cell_type": "code",
   "execution_count": 3,
   "metadata": {
    "execution": {
     "iopub.execute_input": "2021-06-14T11:34:55.888607Z",
     "iopub.status.busy": "2021-06-14T11:34:55.888321Z",
     "iopub.status.idle": "2021-06-14T11:34:55.902981Z",
     "shell.execute_reply": "2021-06-14T11:34:55.902015Z",
     "shell.execute_reply.started": "2021-06-14T11:34:55.888581Z"
    }
   },
   "outputs": [],
   "source": [
    "def crop_center(img, bounding):\n",
    "    start = tuple(map(lambda a, da: a//2-da//2, img.shape, bounding))\n",
    "    end = tuple(map(operator.add, start, bounding))\n",
    "    slices = tuple(map(slice, start, end))\n",
    "    return img[slices]"
   ]
  },
  {
   "cell_type": "code",
   "execution_count": 4,
   "metadata": {
    "execution": {
     "iopub.execute_input": "2021-06-14T11:34:55.904878Z",
     "iopub.status.busy": "2021-06-14T11:34:55.904368Z",
     "iopub.status.idle": "2021-06-14T11:37:12.770213Z",
     "shell.execute_reply": "2021-06-14T11:37:12.765221Z",
     "shell.execute_reply.started": "2021-06-14T11:34:55.904847Z"
    }
   },
   "outputs": [],
   "source": [
    "data = []\n",
    "i = 0\n",
    "#plt.figure(figsize=(15, 15))\n",
    "for category in CATEGORIES:\n",
    "    path = os.path.join(DIRECTORY, category)\n",
    "    #path = DIRECTORY\n",
    "    for img in os.listdir(path):\n",
    "        img_path = os.path.join(path, img)\n",
    "        label = CATEGORIES.index(category)\n",
    "        arr = cv2.imread(img_path)\n",
    "        #print(type(arr))\n",
    "        crop_arr = crop_center(arr, (210,210))\n",
    "        #if 1 <= i+1 <= 140:                      # total 140 image\n",
    "        #    ax = plt.subplot(13, 11, i+1)\n",
    "        #plt.imshow(crop_arr)\n",
    "        i += 1\n",
    "        data.append([crop_arr, label])"
   ]
  },
  {
   "cell_type": "code",
   "execution_count": 5,
   "metadata": {
    "execution": {
     "iopub.execute_input": "2021-06-14T11:37:12.777932Z",
     "iopub.status.busy": "2021-06-14T11:37:12.777489Z",
     "iopub.status.idle": "2021-06-14T11:37:14.868241Z",
     "shell.execute_reply": "2021-06-14T11:37:14.867242Z",
     "shell.execute_reply.started": "2021-06-14T11:37:12.777885Z"
    }
   },
   "outputs": [],
   "source": [
    "random.shuffle(data)\n",
    "\n",
    "x_train = []\n",
    "y_train = []\n",
    "\n",
    "for features, label in data:\n",
    "    x_train.append(features)\n",
    "    y_train.append(label)\n",
    "\n",
    "    \n",
    "x_train = np.array(x_train)\n",
    "y_train = np.array(y_train)"
   ]
  },
  {
   "cell_type": "code",
   "execution_count": 6,
   "metadata": {
    "execution": {
     "iopub.execute_input": "2021-06-14T11:37:14.869684Z",
     "iopub.status.busy": "2021-06-14T11:37:14.869417Z",
     "iopub.status.idle": "2021-06-14T11:37:36.175116Z",
     "shell.execute_reply": "2021-06-14T11:37:36.173958Z",
     "shell.execute_reply.started": "2021-06-14T11:37:14.869658Z"
    }
   },
   "outputs": [],
   "source": [
    "val_data = []\n",
    "i = 0\n",
    "#plt.figure(figsize=(15, 15))\n",
    "for category in CATEGORIES:\n",
    "    path = os.path.join(VAL_DIRECTORY, category)\n",
    "    for img in os.listdir(path):\n",
    "        img_path = os.path.join(path, img)\n",
    "        label = CATEGORIES.index(category)\n",
    "        arr = cv2.imread(img_path)\n",
    "        crop_arr = crop_center(arr, (210,210))\n",
    "        #if 1 <= i+1 <= 70:                     # total image 70\n",
    "        #    ax = plt.subplot(10, 7, i+1)\n",
    "        #plt.imshow(crop_arr)\n",
    "        i += 1\n",
    "        val_data.append([crop_arr, label])"
   ]
  },
  {
   "cell_type": "code",
   "execution_count": 7,
   "metadata": {
    "execution": {
     "iopub.execute_input": "2021-06-14T11:37:36.176986Z",
     "iopub.status.busy": "2021-06-14T11:37:36.176582Z",
     "iopub.status.idle": "2021-06-14T11:37:36.442067Z",
     "shell.execute_reply": "2021-06-14T11:37:36.441097Z",
     "shell.execute_reply.started": "2021-06-14T11:37:36.176943Z"
    }
   },
   "outputs": [],
   "source": [
    "random.shuffle(val_data)\n",
    "\n",
    "x_val = []\n",
    "y_val = []\n",
    "\n",
    "for features, label in val_data:\n",
    "    x_val.append(features)\n",
    "    y_val.append(label)\n",
    "\n",
    "    \n",
    "x_val = np.array(x_val)\n",
    "y_val = np.array(y_val)"
   ]
  },
  {
   "cell_type": "code",
   "execution_count": null,
   "metadata": {},
   "outputs": [],
   "source": []
  },
  {
   "cell_type": "code",
   "execution_count": 8,
   "metadata": {
    "execution": {
     "iopub.execute_input": "2021-06-14T11:37:36.444738Z",
     "iopub.status.busy": "2021-06-14T11:37:36.444422Z",
     "iopub.status.idle": "2021-06-14T11:37:36.453481Z",
     "shell.execute_reply": "2021-06-14T11:37:36.452540Z",
     "shell.execute_reply.started": "2021-06-14T11:37:36.444704Z"
    }
   },
   "outputs": [
    {
     "data": {
      "text/plain": [
       "\"\\nprint(type(x_train))\\nprint(x_train.dtype)\\nx_train = x_train.astype('float32')/255.0\\nx_val   = x_val.astype('float32')/255.0\\nprint(type(x_train))\\nprint(x_train.dtype)\\nprint(type(x_val))\\nprint(x_val.dtype)\\n\""
      ]
     },
     "execution_count": 8,
     "metadata": {},
     "output_type": "execute_result"
    }
   ],
   "source": [
    "'''\n",
    "print(type(x_train))\n",
    "print(x_train.dtype)\n",
    "x_train = x_train.astype('float32')/255.0\n",
    "x_val   = x_val.astype('float32')/255.0\n",
    "print(type(x_train))\n",
    "print(x_train.dtype)\n",
    "print(type(x_val))\n",
    "print(x_val.dtype)\n",
    "'''#'''"
   ]
  },
  {
   "cell_type": "code",
   "execution_count": null,
   "metadata": {},
   "outputs": [],
   "source": []
  },
  {
   "cell_type": "code",
   "execution_count": 9,
   "metadata": {
    "execution": {
     "iopub.execute_input": "2021-06-14T11:37:36.455474Z",
     "iopub.status.busy": "2021-06-14T11:37:36.455147Z",
     "iopub.status.idle": "2021-06-14T11:37:44.806312Z",
     "shell.execute_reply": "2021-06-14T11:37:44.805271Z",
     "shell.execute_reply.started": "2021-06-14T11:37:36.455443Z"
    }
   },
   "outputs": [
    {
     "name": "stdout",
     "output_type": "stream",
     "text": [
      "Model: \"vgg16\"\n",
      "_________________________________________________________________\n",
      "Layer (type)                 Output Shape              Param #   \n",
      "=================================================================\n",
      "input_1 (InputLayer)         [(None, 210, 210, 3)]     0         \n",
      "_________________________________________________________________\n",
      "lambda (Lambda)              (None, 210, 210, 3)       0         \n",
      "_________________________________________________________________\n",
      "block1_conv1 (Conv2D)        (None, 210, 210, 64)      1792      \n",
      "_________________________________________________________________\n",
      "block1_conv2 (Conv2D)        (None, 210, 210, 64)      36928     \n",
      "_________________________________________________________________\n",
      "block1_pool (MaxPooling2D)   (None, 105, 105, 64)      0         \n",
      "_________________________________________________________________\n",
      "block2_conv1 (Conv2D)        (None, 105, 105, 128)     73856     \n",
      "_________________________________________________________________\n",
      "block2_conv2 (Conv2D)        (None, 105, 105, 128)     147584    \n",
      "_________________________________________________________________\n",
      "block2_pool (MaxPooling2D)   (None, 52, 52, 128)       0         \n",
      "_________________________________________________________________\n",
      "block3_conv1 (Conv2D)        (None, 52, 52, 256)       295168    \n",
      "_________________________________________________________________\n",
      "block3_conv2 (Conv2D)        (None, 52, 52, 256)       590080    \n",
      "_________________________________________________________________\n",
      "block3_conv3 (Conv2D)        (None, 52, 52, 256)       590080    \n",
      "_________________________________________________________________\n",
      "block3_pool (MaxPooling2D)   (None, 26, 26, 256)       0         \n",
      "_________________________________________________________________\n",
      "block4_conv1 (Conv2D)        (None, 26, 26, 512)       1180160   \n",
      "_________________________________________________________________\n",
      "block4_conv2 (Conv2D)        (None, 26, 26, 512)       2359808   \n",
      "_________________________________________________________________\n",
      "block4_conv3 (Conv2D)        (None, 26, 26, 512)       2359808   \n",
      "_________________________________________________________________\n",
      "block4_pool (MaxPooling2D)   (None, 13, 13, 512)       0         \n",
      "_________________________________________________________________\n",
      "block5_conv1 (Conv2D)        (None, 13, 13, 512)       2359808   \n",
      "_________________________________________________________________\n",
      "block5_conv2 (Conv2D)        (None, 13, 13, 512)       2359808   \n",
      "_________________________________________________________________\n",
      "block5_conv3 (Conv2D)        (None, 13, 13, 512)       2359808   \n",
      "_________________________________________________________________\n",
      "block5_pool (MaxPooling2D)   (None, 6, 6, 512)         0         \n",
      "_________________________________________________________________\n",
      "flatten (Flatten)            (None, 18432)             0         \n",
      "_________________________________________________________________\n",
      "fc1 (Dense)                  (None, 4096)              75501568  \n",
      "_________________________________________________________________\n",
      "fc2 (Dense)                  (None, 4096)              16781312  \n",
      "_________________________________________________________________\n",
      "predictions (Dense)          (None, 1)                 4097      \n",
      "=================================================================\n",
      "Total params: 107,001,665\n",
      "Trainable params: 107,001,665\n",
      "Non-trainable params: 0\n",
      "_________________________________________________________________\n"
     ]
    }
   ],
   "source": [
    "from tensorflow.keras.layers import Conv2D, BatchNormalization, Activation, MaxPool2D, Conv2DTranspose, Concatenate, Input\n",
    "from tensorflow.keras.models import Model\n",
    "from tensorflow.keras.applications import VGG16\n",
    "import keras\n",
    "from keras.models import Model, load_model\n",
    "from keras.layers import Input\n",
    "from keras.layers.core import Dropout, Lambda\n",
    "from keras.layers.convolutional import Conv2D, Conv2DTranspose\n",
    "from keras.layers.pooling import MaxPooling2D, AveragePooling2D\n",
    "from keras.layers.merge import concatenate\n",
    "from keras.callbacks import EarlyStopping, ModelCheckpoint\n",
    "from keras import backend as K\n",
    "import tensorflow as tf\n",
    "from keras.optimizers import Adam, RMSprop, SGD\n",
    "from keras.callbacks import ModelCheckpoint, CSVLogger, EarlyStopping, ReduceLROnPlateau\n",
    "\n",
    "\n",
    "\n",
    "\n",
    "\n",
    "\n",
    "\n",
    "\n",
    "\n",
    "\n",
    "\n",
    "\n",
    "def build_vgg16_unet(input_shape):\n",
    "\n",
    "    \"\"\" Input \"\"\"\n",
    "    inputs = Input(input_shape)\n",
    "    s = Lambda(lambda x: x/255) (inputs)\n",
    "\n",
    "    \"\"\" Pre-trained VGG16 Model \"\"\"\n",
    "    vgg16 = VGG16(include_top=True, weights=None, input_tensor=s, input_shape=None,\n",
    "    pooling=None,\n",
    "    classes=1,\n",
    "    classifier_activation=\"sigmoid\")\n",
    "    \n",
    "    return vgg16\n",
    "\n",
    "     \n",
    "\n",
    "if __name__ == \"__main__\":\n",
    "    input_shape = (210, 210, 3)\n",
    "    model = build_vgg16_unet(input_shape)\n",
    "    model.summary()"
   ]
  },
  {
   "cell_type": "code",
   "execution_count": 10,
   "metadata": {
    "execution": {
     "iopub.execute_input": "2021-06-14T11:37:44.807716Z",
     "iopub.status.busy": "2021-06-14T11:37:44.807447Z",
     "iopub.status.idle": "2021-06-14T11:37:44.812618Z",
     "shell.execute_reply": "2021-06-14T11:37:44.811949Z",
     "shell.execute_reply.started": "2021-06-14T11:37:44.807688Z"
    }
   },
   "outputs": [
    {
     "data": {
      "text/plain": [
       "'\\n\\n#inputs = Input((210, 210, 3))\\n\\n#s = Lambda(lambda x: x/255) (inputs)\\n\\nmodel = tf.keras.applications.VGG16(\\n    include_top=True,\\n    weights=None,\\n    input_tensor=None,\\n    input_shape=(210,210,3),\\n    pooling=None,\\n    classes=1,\\n    classifier_activation=\"sigmoid\",\\n)\\n'"
      ]
     },
     "execution_count": 10,
     "metadata": {},
     "output_type": "execute_result"
    }
   ],
   "source": [
    "'''\n",
    "\n",
    "#inputs = Input((210, 210, 3))\n",
    "\n",
    "#s = Lambda(lambda x: x/255) (inputs)\n",
    "\n",
    "model = tf.keras.applications.VGG16(\n",
    "    include_top=True,\n",
    "    weights=None,\n",
    "    input_tensor=None,\n",
    "    input_shape=(210,210,3),\n",
    "    pooling=None,\n",
    "    classes=1,\n",
    "    classifier_activation=\"sigmoid\",\n",
    ")\n",
    "'''#'''"
   ]
  },
  {
   "cell_type": "code",
   "execution_count": 11,
   "metadata": {
    "execution": {
     "iopub.execute_input": "2021-06-14T11:37:44.813680Z",
     "iopub.status.busy": "2021-06-14T11:37:44.813445Z",
     "iopub.status.idle": "2021-06-14T11:37:44.830684Z",
     "shell.execute_reply": "2021-06-14T11:37:44.829339Z",
     "shell.execute_reply.started": "2021-06-14T11:37:44.813657Z"
    }
   },
   "outputs": [],
   "source": [
    "#model.summary()"
   ]
  },
  {
   "cell_type": "code",
   "execution_count": 12,
   "metadata": {
    "execution": {
     "iopub.execute_input": "2021-06-14T11:37:44.832287Z",
     "iopub.status.busy": "2021-06-14T11:37:44.832015Z",
     "iopub.status.idle": "2021-06-14T11:37:44.872786Z",
     "shell.execute_reply": "2021-06-14T11:37:44.871888Z",
     "shell.execute_reply.started": "2021-06-14T11:37:44.832261Z"
    }
   },
   "outputs": [],
   "source": [
    "from keras.optimizers import Adam, RMSprop\n",
    "adam_opt = Adam(lr=1e-5, beta_1=0.9, beta_2=0.999, epsilon=1e-08, decay=1e-5)\n",
    "#sgd_opt = SGD(lr=1e-06, momentum=0.0, decay=0.0, nesterov=False)\n",
    "#rmsp_opt = RMSprop(lr=1e-4, decay=0.9)\n",
    "# eve_opt = Eve(lr=1e-4, decay=1E-4, beta_1=0.9, beta_2=0.999, beta_3=0.999, small_k=0.1, big_K=10, epsilon=1e-08)\n",
    "\n",
    "model.compile(optimizer= adam_opt,\n",
    "              loss = 'binary_crossentropy',\n",
    "              metrics=['accuracy'])"
   ]
  },
  {
   "cell_type": "code",
   "execution_count": 13,
   "metadata": {
    "execution": {
     "iopub.execute_input": "2021-06-14T11:37:44.874430Z",
     "iopub.status.busy": "2021-06-14T11:37:44.874167Z",
     "iopub.status.idle": "2021-06-14T11:37:44.878982Z",
     "shell.execute_reply": "2021-06-14T11:37:44.878005Z",
     "shell.execute_reply.started": "2021-06-14T11:37:44.874403Z"
    }
   },
   "outputs": [],
   "source": [
    "import keras\n",
    "callbacks = [\n",
    "    keras.callbacks.ModelCheckpoint('baseline_vgg.h5', monitor='val_accuracy', save_best_only=True, mode='max'),\n",
    "    keras.callbacks.ReduceLROnPlateau(monitor='val_accuracy', factor=0.1, verbose=1, patience=5, mode='max')]\n"
   ]
  },
  {
   "cell_type": "code",
   "execution_count": 14,
   "metadata": {
    "execution": {
     "iopub.execute_input": "2021-06-14T11:37:44.880787Z",
     "iopub.status.busy": "2021-06-14T11:37:44.880280Z",
     "iopub.status.idle": "2021-06-14T11:37:44.893959Z",
     "shell.execute_reply": "2021-06-14T11:37:44.892793Z",
     "shell.execute_reply.started": "2021-06-14T11:37:44.880749Z"
    }
   },
   "outputs": [
    {
     "name": "stdout",
     "output_type": "stream",
     "text": [
      "84 15\n"
     ]
    }
   ],
   "source": [
    "import math\n",
    "BATCH_SIZE=128\n",
    "\n",
    "TRAINING_SIZE = x_train.shape[0]\n",
    "\n",
    "VALIDATION_SIZE = x_val.shape[0]\n",
    "\n",
    "compute_steps_per_epoch = lambda x: int(math.ceil(1. * x / BATCH_SIZE))\n",
    "train_steps_per_epoch = compute_steps_per_epoch(TRAINING_SIZE)\n",
    "val_steps = compute_steps_per_epoch(VALIDATION_SIZE)\n",
    "print(train_steps_per_epoch, val_steps)"
   ]
  },
  {
   "cell_type": "code",
   "execution_count": 15,
   "metadata": {
    "execution": {
     "iopub.execute_input": "2021-06-14T11:37:44.895550Z",
     "iopub.status.busy": "2021-06-14T11:37:44.895161Z",
     "iopub.status.idle": "2021-06-14T11:45:45.537332Z",
     "shell.execute_reply": "2021-06-14T11:45:45.534829Z",
     "shell.execute_reply.started": "2021-06-14T11:37:44.895506Z"
    }
   },
   "outputs": [
    {
     "name": "stdout",
     "output_type": "stream",
     "text": [
      "Epoch 1/50\n",
      "84/84 [==============================] - 51s 374ms/step - loss: 0.6392 - accuracy: 0.6559 - val_loss: 0.6534 - val_accuracy: 0.6813\n",
      "Epoch 2/50\n",
      "84/84 [==============================] - 7s 89ms/step - loss: 0.4584 - accuracy: 0.8000 - val_loss: 0.7268 - val_accuracy: 0.7006\n",
      "Epoch 3/50\n",
      "84/84 [==============================] - 7s 88ms/step - loss: 0.4458 - accuracy: 0.8043 - val_loss: 0.7194 - val_accuracy: 0.7027\n",
      "Epoch 4/50\n",
      "84/84 [==============================] - 8s 90ms/step - loss: 0.4389 - accuracy: 0.8058 - val_loss: 0.6535 - val_accuracy: 0.7054\n",
      "Epoch 5/50\n",
      "84/84 [==============================] - 7s 88ms/step - loss: 0.4413 - accuracy: 0.8056 - val_loss: 0.6744 - val_accuracy: 0.7054\n",
      "Epoch 6/50\n",
      "84/84 [==============================] - 7s 88ms/step - loss: 0.4372 - accuracy: 0.8101 - val_loss: 0.7259 - val_accuracy: 0.6968\n",
      "Epoch 7/50\n",
      "84/84 [==============================] - 7s 88ms/step - loss: 0.4373 - accuracy: 0.8125 - val_loss: 0.6526 - val_accuracy: 0.7092\n",
      "Epoch 8/50\n",
      "84/84 [==============================] - 7s 89ms/step - loss: 0.4162 - accuracy: 0.8230 - val_loss: 0.6899 - val_accuracy: 0.6984\n",
      "Epoch 9/50\n",
      "84/84 [==============================] - 7s 87ms/step - loss: 0.4110 - accuracy: 0.8270 - val_loss: 0.5960 - val_accuracy: 0.6893\n",
      "Epoch 10/50\n",
      "84/84 [==============================] - 7s 88ms/step - loss: 0.4127 - accuracy: 0.8261 - val_loss: 0.6937 - val_accuracy: 0.7172\n",
      "Epoch 11/50\n",
      "84/84 [==============================] - 7s 88ms/step - loss: 0.3799 - accuracy: 0.8550 - val_loss: 0.7352 - val_accuracy: 0.7145\n",
      "Epoch 12/50\n",
      "84/84 [==============================] - 7s 87ms/step - loss: 0.3725 - accuracy: 0.8512 - val_loss: 0.6495 - val_accuracy: 0.7231\n",
      "Epoch 13/50\n",
      "84/84 [==============================] - 7s 89ms/step - loss: 0.3566 - accuracy: 0.8610 - val_loss: 0.6938 - val_accuracy: 0.7167\n",
      "Epoch 14/50\n",
      "84/84 [==============================] - 7s 88ms/step - loss: 0.3389 - accuracy: 0.8698 - val_loss: 0.6751 - val_accuracy: 0.7183\n",
      "Epoch 15/50\n",
      "84/84 [==============================] - 7s 88ms/step - loss: 0.3301 - accuracy: 0.8712 - val_loss: 0.7239 - val_accuracy: 0.6963\n",
      "Epoch 16/50\n",
      "84/84 [==============================] - 7s 88ms/step - loss: 0.3485 - accuracy: 0.8617 - val_loss: 0.7072 - val_accuracy: 0.7086\n",
      "Epoch 17/50\n",
      "84/84 [==============================] - 7s 88ms/step - loss: 0.3384 - accuracy: 0.8695 - val_loss: 0.7766 - val_accuracy: 0.7070\n",
      "\n",
      "Epoch 00017: ReduceLROnPlateau reducing learning rate to 9.999999747378752e-07.\n",
      "Epoch 18/50\n",
      "84/84 [==============================] - 7s 88ms/step - loss: 0.3234 - accuracy: 0.8748 - val_loss: 0.7063 - val_accuracy: 0.7151\n",
      "Epoch 19/50\n",
      "84/84 [==============================] - 7s 88ms/step - loss: 0.3008 - accuracy: 0.8842 - val_loss: 0.7029 - val_accuracy: 0.7151\n",
      "Epoch 20/50\n",
      "84/84 [==============================] - 7s 87ms/step - loss: 0.3093 - accuracy: 0.8805 - val_loss: 0.6783 - val_accuracy: 0.7252\n",
      "Epoch 21/50\n",
      "84/84 [==============================] - 7s 88ms/step - loss: 0.3046 - accuracy: 0.8828 - val_loss: 0.7023 - val_accuracy: 0.7172\n",
      "Epoch 22/50\n",
      "84/84 [==============================] - 7s 88ms/step - loss: 0.3018 - accuracy: 0.8845 - val_loss: 0.6736 - val_accuracy: 0.7225\n",
      "Epoch 23/50\n",
      "84/84 [==============================] - 7s 88ms/step - loss: 0.3005 - accuracy: 0.8821 - val_loss: 0.6872 - val_accuracy: 0.7247\n",
      "Epoch 24/50\n",
      "84/84 [==============================] - 7s 88ms/step - loss: 0.2995 - accuracy: 0.8857 - val_loss: 0.6760 - val_accuracy: 0.7199\n",
      "Epoch 25/50\n",
      "84/84 [==============================] - 8s 90ms/step - loss: 0.2977 - accuracy: 0.8855 - val_loss: 0.7004 - val_accuracy: 0.7188\n",
      "\n",
      "Epoch 00025: ReduceLROnPlateau reducing learning rate to 9.999999974752428e-08.\n",
      "Epoch 26/50\n",
      "84/84 [==============================] - 8s 90ms/step - loss: 0.3045 - accuracy: 0.8837 - val_loss: 0.6809 - val_accuracy: 0.7215\n",
      "Epoch 27/50\n",
      "84/84 [==============================] - 7s 88ms/step - loss: 0.3026 - accuracy: 0.8842 - val_loss: 0.6859 - val_accuracy: 0.7204\n",
      "Epoch 28/50\n",
      "84/84 [==============================] - 7s 88ms/step - loss: 0.3032 - accuracy: 0.8848 - val_loss: 0.6866 - val_accuracy: 0.7209\n",
      "Epoch 29/50\n",
      "84/84 [==============================] - 7s 89ms/step - loss: 0.2990 - accuracy: 0.8839 - val_loss: 0.6809 - val_accuracy: 0.7188\n",
      "Epoch 30/50\n",
      "84/84 [==============================] - 7s 88ms/step - loss: 0.3029 - accuracy: 0.8844 - val_loss: 0.6851 - val_accuracy: 0.7193\n",
      "\n",
      "Epoch 00030: ReduceLROnPlateau reducing learning rate to 1.0000000116860975e-08.\n",
      "Epoch 31/50\n",
      "84/84 [==============================] - 7s 88ms/step - loss: 0.3091 - accuracy: 0.8840 - val_loss: 0.6856 - val_accuracy: 0.7193\n",
      "Epoch 32/50\n",
      "84/84 [==============================] - 7s 88ms/step - loss: 0.2939 - accuracy: 0.8882 - val_loss: 0.6867 - val_accuracy: 0.7199\n",
      "Epoch 33/50\n",
      "84/84 [==============================] - 8s 93ms/step - loss: 0.2984 - accuracy: 0.8863 - val_loss: 0.6868 - val_accuracy: 0.7193\n",
      "Epoch 34/50\n",
      "84/84 [==============================] - 7s 88ms/step - loss: 0.3057 - accuracy: 0.8825 - val_loss: 0.6869 - val_accuracy: 0.7193\n",
      "Epoch 35/50\n",
      "84/84 [==============================] - 7s 88ms/step - loss: 0.2961 - accuracy: 0.8914 - val_loss: 0.6874 - val_accuracy: 0.7199\n",
      "\n",
      "Epoch 00035: ReduceLROnPlateau reducing learning rate to 9.999999939225292e-10.\n",
      "Epoch 36/50\n",
      "84/84 [==============================] - 7s 87ms/step - loss: 0.3031 - accuracy: 0.8880 - val_loss: 0.6874 - val_accuracy: 0.7199\n",
      "Epoch 37/50\n",
      "84/84 [==============================] - 7s 88ms/step - loss: 0.3011 - accuracy: 0.8830 - val_loss: 0.6874 - val_accuracy: 0.7199\n",
      "Epoch 38/50\n",
      "84/84 [==============================] - 7s 88ms/step - loss: 0.2908 - accuracy: 0.8872 - val_loss: 0.6874 - val_accuracy: 0.7199\n",
      "Epoch 39/50\n",
      "84/84 [==============================] - 7s 88ms/step - loss: 0.3038 - accuracy: 0.8835 - val_loss: 0.6874 - val_accuracy: 0.7204\n",
      "Epoch 40/50\n",
      "84/84 [==============================] - 7s 88ms/step - loss: 0.3081 - accuracy: 0.8808 - val_loss: 0.6874 - val_accuracy: 0.7199\n",
      "\n",
      "Epoch 00040: ReduceLROnPlateau reducing learning rate to 9.999999717180686e-11.\n",
      "Epoch 41/50\n",
      "84/84 [==============================] - 7s 88ms/step - loss: 0.2954 - accuracy: 0.8875 - val_loss: 0.6874 - val_accuracy: 0.7199\n",
      "Epoch 42/50\n",
      "84/84 [==============================] - 7s 89ms/step - loss: 0.2998 - accuracy: 0.8848 - val_loss: 0.6874 - val_accuracy: 0.7199\n",
      "Epoch 43/50\n",
      "84/84 [==============================] - 7s 88ms/step - loss: 0.2944 - accuracy: 0.8887 - val_loss: 0.6874 - val_accuracy: 0.7204\n",
      "Epoch 44/50\n",
      "84/84 [==============================] - 7s 88ms/step - loss: 0.2960 - accuracy: 0.8877 - val_loss: 0.6874 - val_accuracy: 0.7199\n",
      "Epoch 45/50\n",
      "84/84 [==============================] - 7s 88ms/step - loss: 0.2974 - accuracy: 0.8859 - val_loss: 0.6874 - val_accuracy: 0.7193\n",
      "\n",
      "Epoch 00045: ReduceLROnPlateau reducing learning rate to 9.99999943962493e-12.\n",
      "Epoch 46/50\n",
      "84/84 [==============================] - 7s 88ms/step - loss: 0.2899 - accuracy: 0.8921 - val_loss: 0.6874 - val_accuracy: 0.7193\n",
      "Epoch 47/50\n",
      "84/84 [==============================] - 7s 88ms/step - loss: 0.3008 - accuracy: 0.8858 - val_loss: 0.6874 - val_accuracy: 0.7193\n",
      "Epoch 48/50\n",
      "84/84 [==============================] - 7s 88ms/step - loss: 0.2956 - accuracy: 0.8868 - val_loss: 0.6874 - val_accuracy: 0.7193\n",
      "Epoch 49/50\n",
      "84/84 [==============================] - 7s 88ms/step - loss: 0.3051 - accuracy: 0.8827 - val_loss: 0.6874 - val_accuracy: 0.7193\n",
      "Epoch 50/50\n",
      "84/84 [==============================] - 7s 88ms/step - loss: 0.2997 - accuracy: 0.8874 - val_loss: 0.6874 - val_accuracy: 0.7193\n",
      "\n",
      "Epoch 00050: ReduceLROnPlateau reducing learning rate to 9.999999092680235e-13.\n"
     ]
    }
   ],
   "source": [
    "history = model.fit(x_train, y_train, validation_data = (x_val,y_val), verbose = 1, batch_size=BATCH_SIZE, steps_per_epoch = train_steps_per_epoch, validation_steps = val_steps, epochs = 50, shuffle = True, callbacks = callbacks)"
   ]
  },
  {
   "cell_type": "code",
   "execution_count": 16,
   "metadata": {
    "execution": {
     "iopub.execute_input": "2021-06-14T11:45:45.540658Z",
     "iopub.status.busy": "2021-06-14T11:45:45.540347Z",
     "iopub.status.idle": "2021-06-14T11:45:45.772661Z",
     "shell.execute_reply": "2021-06-14T11:45:45.771631Z",
     "shell.execute_reply.started": "2021-06-14T11:45:45.540621Z"
    }
   },
   "outputs": [
    {
     "data": {
      "image/png": "[encoded data removed]",
      "text/plain": [
       "<Figure size 432x288 with 1 Axes>"
      ]
     },
     "metadata": {
      "needs_background": "light"
     },
     "output_type": "display_data"
    }
   ],
   "source": [
    "#'''                                                                                                                                                      \n",
    "plt.plot(history.history['loss'])                                                                                                                                        \n",
    "plt.plot(history.history['val_loss'])                                                                                                                                                                                                                                                     \n",
    "plt.title('Model loss')                                                                                   \n",
    "plt.ylabel('Binary_crossEntropy')                                                                                                                 \n",
    "plt.xlabel('Epoch')                                                                      \n",
    "plt.legend(['Train', 'Validation'], loc='upper left')          \n",
    "plt.show()                                                                    \n",
    "#'''                                                      "
   ]
  },
  {
   "cell_type": "code",
   "execution_count": 17,
   "metadata": {
    "execution": {
     "iopub.execute_input": "2021-06-14T11:45:45.774659Z",
     "iopub.status.busy": "2021-06-14T11:45:45.774298Z",
     "iopub.status.idle": "2021-06-14T11:45:45.904567Z",
     "shell.execute_reply": "2021-06-14T11:45:45.903631Z",
     "shell.execute_reply.started": "2021-06-14T11:45:45.774620Z"
    }
   },
   "outputs": [
    {
     "data": {
      "image/png": "[encoded data removed]",
      "text/plain": [
       "<Figure size 432x288 with 1 Axes>"
      ]
     },
     "metadata": {
      "needs_background": "light"
     },
     "output_type": "display_data"
    }
   ],
   "source": [
    "#'''                     \n",
    "plt.plot(history.history['accuracy'])                                            \n",
    "plt.plot(history.history['val_accuracy'])         \n",
    "plt.title('Model accuracy')                           \n",
    "plt.ylabel('Accuracy')                         \n",
    "plt.xlabel('Epoch')                      \n",
    "plt.legend(['Train', 'Validation'], loc='upper left')\n",
    "plt.show()\n",
    "#'''"
   ]
  },
  {
   "cell_type": "code",
   "execution_count": 18,
   "metadata": {
    "execution": {
     "iopub.execute_input": "2021-06-14T11:45:45.906127Z",
     "iopub.status.busy": "2021-06-14T11:45:45.905862Z",
     "iopub.status.idle": "2021-06-14T11:45:45.911708Z",
     "shell.execute_reply": "2021-06-14T11:45:45.910938Z",
     "shell.execute_reply.started": "2021-06-14T11:45:45.906100Z"
    }
   },
   "outputs": [
    {
     "name": "stdout",
     "output_type": "stream",
     "text": [
      "Lowest training loss:  0.30008912086486816\n",
      "Lowest validation loss:  0.596049427986145\n",
      "Highest training accuracy:  0.8864083886146545\n",
      "Highest validation accuracy:  0.7252276539802551\n"
     ]
    }
   ],
   "source": [
    "#'''\n",
    "print('Lowest training loss: ', min(history.history['loss']))\n",
    "print('Lowest validation loss: ', min(history.history['val_loss']))        \n",
    "print('Highest training accuracy: ', max(history.history['accuracy']))\n",
    "print('Highest validation accuracy: ', max(history.history['val_accuracy']))\n",
    "#'''  "
   ]
  },
  {
   "cell_type": "code",
   "execution_count": 19,
   "metadata": {
    "execution": {
     "iopub.execute_input": "2021-06-14T11:45:45.912926Z",
     "iopub.status.busy": "2021-06-14T11:45:45.912608Z",
     "iopub.status.idle": "2021-06-14T11:45:45.927397Z",
     "shell.execute_reply": "2021-06-14T11:45:45.926331Z",
     "shell.execute_reply.started": "2021-06-14T11:45:45.912899Z"
    }
   },
   "outputs": [
    {
     "data": {
      "text/html": [
       "<a href='./baseline_vgg.h5' target='_blank'>./baseline_vgg.h5</a><br>"
      ],
      "text/plain": [
       "/kaggle/working/baseline_vgg.h5"
      ]
     },
     "execution_count": 19,
     "metadata": {},
     "output_type": "execute_result"
    }
   ],
   "source": [
    "from IPython.display import FileLink\n",
    "FileLink('./baseline_vgg.h5')    "
   ]
  }
 ],
 "metadata": {
  "kernelspec": {
   "display_name": "Python 3",
   "language": "python",
   "name": "python3"
  },
  "language_info": {
   "codemirror_mode": {
    "name": "ipython",
    "version": 3
   },
   "file_extension": ".py",
   "mimetype": "text/x-python",
   "name": "python",
   "nbconvert_exporter": "python",
   "pygments_lexer": "ipython3",
   "version": "3.8.3"
  }
 },
 "nbformat": 4,
 "nbformat_minor": 4
}
