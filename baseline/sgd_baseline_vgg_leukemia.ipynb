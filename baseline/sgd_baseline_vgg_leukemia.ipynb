{
 "cells": [
  {
   "cell_type": "code",
   "execution_count": 45,
   "metadata": {
    "execution": {
     "iopub.execute_input": "2021-06-14T12:17:20.907859Z",
     "iopub.status.busy": "2021-06-14T12:17:20.907523Z",
     "iopub.status.idle": "2021-06-14T12:17:20.915004Z",
     "shell.execute_reply": "2021-06-14T12:17:20.914072Z",
     "shell.execute_reply.started": "2021-06-14T12:17:20.907828Z"
    }
   },
   "outputs": [],
   "source": [
    "import numpy as np\n",
    "import os\n",
    "import cv2\n",
    "import matplotlib.pyplot as plt\n",
    "%matplotlib inline\n",
    "import operator\n",
    "import tensorflow as tf\n",
    "import random"
   ]
  },
  {
   "cell_type": "code",
   "execution_count": null,
   "metadata": {},
   "outputs": [],
   "source": []
  },
  {
   "cell_type": "code",
   "execution_count": 46,
   "metadata": {
    "execution": {
     "iopub.execute_input": "2021-06-14T12:17:20.916682Z",
     "iopub.status.busy": "2021-06-14T12:17:20.916259Z",
     "iopub.status.idle": "2021-06-14T12:17:20.930179Z",
     "shell.execute_reply": "2021-06-14T12:17:20.929145Z",
     "shell.execute_reply.started": "2021-06-14T12:17:20.916643Z"
    }
   },
   "outputs": [],
   "source": [
    "DIRECTORY = r'../input/train-set/train'\n",
    "VAL_DIRECTORY = r'../input/val-set'\n",
    "   \n",
    "CATEGORIES = ['all', 'hem']        "
   ]
  },
  {
   "cell_type": "code",
   "execution_count": 47,
   "metadata": {
    "execution": {
     "iopub.execute_input": "2021-06-14T12:17:20.932915Z",
     "iopub.status.busy": "2021-06-14T12:17:20.932390Z",
     "iopub.status.idle": "2021-06-14T12:17:20.944900Z",
     "shell.execute_reply": "2021-06-14T12:17:20.943960Z",
     "shell.execute_reply.started": "2021-06-14T12:17:20.932869Z"
    }
   },
   "outputs": [],
   "source": [
    "def crop_center(img, bounding):\n",
    "    start = tuple(map(lambda a, da: a//2-da//2, img.shape, bounding))\n",
    "    end = tuple(map(operator.add, start, bounding))\n",
    "    slices = tuple(map(slice, start, end))\n",
    "    return img[slices]"
   ]
  },
  {
   "cell_type": "code",
   "execution_count": 48,
   "metadata": {
    "execution": {
     "iopub.execute_input": "2021-06-14T12:17:20.947338Z",
     "iopub.status.busy": "2021-06-14T12:17:20.946647Z",
     "iopub.status.idle": "2021-06-14T12:19:16.785119Z",
     "shell.execute_reply": "2021-06-14T12:19:16.782578Z",
     "shell.execute_reply.started": "2021-06-14T12:17:20.947296Z"
    }
   },
   "outputs": [],
   "source": [
    "data = []\n",
    "i = 0\n",
    "#plt.figure(figsize=(15, 15))\n",
    "for category in CATEGORIES:\n",
    "    path = os.path.join(DIRECTORY, category)\n",
    "    #path = DIRECTORY\n",
    "    for img in os.listdir(path):\n",
    "        img_path = os.path.join(path, img)\n",
    "        label = CATEGORIES.index(category)\n",
    "        arr = cv2.imread(img_path)\n",
    "        #print(type(arr))\n",
    "        crop_arr = crop_center(arr, (210,210))\n",
    "        #if 1 <= i+1 <= 140:                      # total 140 image\n",
    "        #    ax = plt.subplot(13, 11, i+1)\n",
    "        #plt.imshow(crop_arr)\n",
    "        i += 1\n",
    "        data.append([crop_arr, label])"
   ]
  },
  {
   "cell_type": "code",
   "execution_count": 49,
   "metadata": {
    "execution": {
     "iopub.execute_input": "2021-06-14T12:19:16.791147Z",
     "iopub.status.busy": "2021-06-14T12:19:16.790557Z",
     "iopub.status.idle": "2021-06-14T12:19:17.944851Z",
     "shell.execute_reply": "2021-06-14T12:19:17.943919Z",
     "shell.execute_reply.started": "2021-06-14T12:19:16.791110Z"
    }
   },
   "outputs": [],
   "source": [
    "random.shuffle(data)\n",
    "\n",
    "x_train = []\n",
    "y_train = []\n",
    "\n",
    "for features, label in data:\n",
    "    x_train.append(features)\n",
    "    y_train.append(label)\n",
    "\n",
    "    \n",
    "x_train = np.array(x_train)\n",
    "y_train = np.array(y_train)"
   ]
  },
  {
   "cell_type": "code",
   "execution_count": 50,
   "metadata": {
    "execution": {
     "iopub.execute_input": "2021-06-14T12:19:17.946676Z",
     "iopub.status.busy": "2021-06-14T12:19:17.946411Z",
     "iopub.status.idle": "2021-06-14T12:19:37.060910Z",
     "shell.execute_reply": "2021-06-14T12:19:37.060042Z",
     "shell.execute_reply.started": "2021-06-14T12:19:17.946637Z"
    }
   },
   "outputs": [],
   "source": [
    "val_data = []\n",
    "i = 0\n",
    "#plt.figure(figsize=(15, 15))\n",
    "for category in CATEGORIES:\n",
    "    path = os.path.join(VAL_DIRECTORY, category)\n",
    "    for img in os.listdir(path):\n",
    "        img_path = os.path.join(path, img)\n",
    "        label = CATEGORIES.index(category)\n",
    "        arr = cv2.imread(img_path)\n",
    "        crop_arr = crop_center(arr, (210,210))\n",
    "        #if 1 <= i+1 <= 70:                     # total image 70\n",
    "        #    ax = plt.subplot(10, 7, i+1)\n",
    "        #plt.imshow(crop_arr)\n",
    "        i += 1\n",
    "        val_data.append([crop_arr, label])"
   ]
  },
  {
   "cell_type": "code",
   "execution_count": 51,
   "metadata": {
    "execution": {
     "iopub.execute_input": "2021-06-14T12:19:37.062735Z",
     "iopub.status.busy": "2021-06-14T12:19:37.062437Z",
     "iopub.status.idle": "2021-06-14T12:19:37.221573Z",
     "shell.execute_reply": "2021-06-14T12:19:37.220772Z",
     "shell.execute_reply.started": "2021-06-14T12:19:37.062708Z"
    }
   },
   "outputs": [],
   "source": [
    "random.shuffle(val_data)\n",
    "\n",
    "x_val = []\n",
    "y_val = []\n",
    "\n",
    "for features, label in val_data:\n",
    "    x_val.append(features)\n",
    "    y_val.append(label)\n",
    "\n",
    "    \n",
    "x_val = np.array(x_val)\n",
    "y_val = np.array(y_val)"
   ]
  },
  {
   "cell_type": "code",
   "execution_count": null,
   "metadata": {},
   "outputs": [],
   "source": []
  },
  {
   "cell_type": "code",
   "execution_count": 52,
   "metadata": {
    "execution": {
     "iopub.execute_input": "2021-06-14T12:19:37.222973Z",
     "iopub.status.busy": "2021-06-14T12:19:37.222705Z",
     "iopub.status.idle": "2021-06-14T12:19:37.228152Z",
     "shell.execute_reply": "2021-06-14T12:19:37.227237Z",
     "shell.execute_reply.started": "2021-06-14T12:19:37.222948Z"
    }
   },
   "outputs": [
    {
     "data": {
      "text/plain": [
       "\"\\nprint(type(x_train))\\nprint(x_train.dtype)\\nx_train = x_train.astype('float32')/255.0\\nx_val   = x_val.astype('float32')/255.0\\nprint(type(x_train))\\nprint(x_train.dtype)\\nprint(type(x_val))\\nprint(x_val.dtype)\\n\""
      ]
     },
     "execution_count": 52,
     "metadata": {},
     "output_type": "execute_result"
    }
   ],
   "source": [
    "'''\n",
    "print(type(x_train))\n",
    "print(x_train.dtype)\n",
    "x_train = x_train.astype('float32')/255.0\n",
    "x_val   = x_val.astype('float32')/255.0\n",
    "print(type(x_train))\n",
    "print(x_train.dtype)\n",
    "print(type(x_val))\n",
    "print(x_val.dtype)\n",
    "'''#'''"
   ]
  },
  {
   "cell_type": "code",
   "execution_count": null,
   "metadata": {},
   "outputs": [],
   "source": []
  },
  {
   "cell_type": "code",
   "execution_count": 53,
   "metadata": {
    "execution": {
     "iopub.execute_input": "2021-06-14T12:19:37.230035Z",
     "iopub.status.busy": "2021-06-14T12:19:37.229501Z",
     "iopub.status.idle": "2021-06-14T12:19:44.553369Z",
     "shell.execute_reply": "2021-06-14T12:19:44.552392Z",
     "shell.execute_reply.started": "2021-06-14T12:19:37.229995Z"
    }
   },
   "outputs": [
    {
     "name": "stdout",
     "output_type": "stream",
     "text": [
      "Model: \"vgg16\"\n",
      "_________________________________________________________________\n",
      "Layer (type)                 Output Shape              Param #   \n",
      "=================================================================\n",
      "input_2 (InputLayer)         [(None, 210, 210, 3)]     0         \n",
      "_________________________________________________________________\n",
      "lambda_1 (Lambda)            (None, 210, 210, 3)       0         \n",
      "_________________________________________________________________\n",
      "block1_conv1 (Conv2D)        (None, 210, 210, 64)      1792      \n",
      "_________________________________________________________________\n",
      "block1_conv2 (Conv2D)        (None, 210, 210, 64)      36928     \n",
      "_________________________________________________________________\n",
      "block1_pool (MaxPooling2D)   (None, 105, 105, 64)      0         \n",
      "_________________________________________________________________\n",
      "block2_conv1 (Conv2D)        (None, 105, 105, 128)     73856     \n",
      "_________________________________________________________________\n",
      "block2_conv2 (Conv2D)        (None, 105, 105, 128)     147584    \n",
      "_________________________________________________________________\n",
      "block2_pool (MaxPooling2D)   (None, 52, 52, 128)       0         \n",
      "_________________________________________________________________\n",
      "block3_conv1 (Conv2D)        (None, 52, 52, 256)       295168    \n",
      "_________________________________________________________________\n",
      "block3_conv2 (Conv2D)        (None, 52, 52, 256)       590080    \n",
      "_________________________________________________________________\n",
      "block3_conv3 (Conv2D)        (None, 52, 52, 256)       590080    \n",
      "_________________________________________________________________\n",
      "block3_pool (MaxPooling2D)   (None, 26, 26, 256)       0         \n",
      "_________________________________________________________________\n",
      "block4_conv1 (Conv2D)        (None, 26, 26, 512)       1180160   \n",
      "_________________________________________________________________\n",
      "block4_conv2 (Conv2D)        (None, 26, 26, 512)       2359808   \n",
      "_________________________________________________________________\n",
      "block4_conv3 (Conv2D)        (None, 26, 26, 512)       2359808   \n",
      "_________________________________________________________________\n",
      "block4_pool (MaxPooling2D)   (None, 13, 13, 512)       0         \n",
      "_________________________________________________________________\n",
      "block5_conv1 (Conv2D)        (None, 13, 13, 512)       2359808   \n",
      "_________________________________________________________________\n",
      "block5_conv2 (Conv2D)        (None, 13, 13, 512)       2359808   \n",
      "_________________________________________________________________\n",
      "block5_conv3 (Conv2D)        (None, 13, 13, 512)       2359808   \n",
      "_________________________________________________________________\n",
      "block5_pool (MaxPooling2D)   (None, 6, 6, 512)         0         \n",
      "_________________________________________________________________\n",
      "flatten (Flatten)            (None, 18432)             0         \n",
      "_________________________________________________________________\n",
      "fc1 (Dense)                  (None, 4096)              75501568  \n",
      "_________________________________________________________________\n",
      "fc2 (Dense)                  (None, 4096)              16781312  \n",
      "_________________________________________________________________\n",
      "predictions (Dense)          (None, 1)                 4097      \n",
      "=================================================================\n",
      "Total params: 107,001,665\n",
      "Trainable params: 107,001,665\n",
      "Non-trainable params: 0\n",
      "_________________________________________________________________\n"
     ]
    }
   ],
   "source": [
    "from tensorflow.keras.layers import Conv2D, BatchNormalization, Activation, MaxPool2D, Conv2DTranspose, Concatenate, Input\n",
    "from tensorflow.keras.models import Model\n",
    "from tensorflow.keras.applications import VGG16\n",
    "import keras\n",
    "from keras.models import Model, load_model\n",
    "from keras.layers import Input\n",
    "from keras.layers.core import Dropout, Lambda\n",
    "from keras.layers.convolutional import Conv2D, Conv2DTranspose\n",
    "from keras.layers.pooling import MaxPooling2D, AveragePooling2D\n",
    "from keras.layers.merge import concatenate\n",
    "from keras.callbacks import EarlyStopping, ModelCheckpoint\n",
    "from keras import backend as K\n",
    "import tensorflow as tf\n",
    "from keras.optimizers import Adam, RMSprop, SGD\n",
    "from keras.callbacks import ModelCheckpoint, CSVLogger, EarlyStopping, ReduceLROnPlateau\n",
    "\n",
    "\n",
    "\n",
    "\n",
    "\n",
    "\n",
    "\n",
    "\n",
    "\n",
    "\n",
    "\n",
    "\n",
    "def build_vgg16_unet(input_shape):\n",
    "\n",
    "    \"\"\" Input \"\"\"\n",
    "    inputs = Input(input_shape)\n",
    "    s = Lambda(lambda x: x/255) (inputs)\n",
    "\n",
    "    \"\"\" Pre-trained VGG16 Model \"\"\"\n",
    "    vgg16 = VGG16(include_top=True, weights=None, input_tensor=s, input_shape=None,\n",
    "    pooling=None,\n",
    "    classes=1,\n",
    "    classifier_activation=\"sigmoid\")\n",
    "    \n",
    "    return vgg16\n",
    "\n",
    "     \n",
    "\n",
    "if __name__ == \"__main__\":\n",
    "    input_shape = (210, 210, 3)\n",
    "    model = build_vgg16_unet(input_shape)\n",
    "    model.summary()"
   ]
  },
  {
   "cell_type": "code",
   "execution_count": 54,
   "metadata": {
    "execution": {
     "iopub.execute_input": "2021-06-14T12:19:44.554588Z",
     "iopub.status.busy": "2021-06-14T12:19:44.554356Z",
     "iopub.status.idle": "2021-06-14T12:19:44.559656Z",
     "shell.execute_reply": "2021-06-14T12:19:44.558876Z",
     "shell.execute_reply.started": "2021-06-14T12:19:44.554565Z"
    }
   },
   "outputs": [
    {
     "data": {
      "text/plain": [
       "'\\n\\n#inputs = Input((210, 210, 3))\\n\\n#s = Lambda(lambda x: x/255) (inputs)\\n\\nmodel = tf.keras.applications.VGG16(\\n    include_top=True,\\n    weights=None,\\n    input_tensor=None,\\n    input_shape=(210,210,3),\\n    pooling=None,\\n    classes=1,\\n    classifier_activation=\"sigmoid\",\\n)\\n'"
      ]
     },
     "execution_count": 54,
     "metadata": {},
     "output_type": "execute_result"
    }
   ],
   "source": [
    "'''\n",
    "\n",
    "#inputs = Input((210, 210, 3))\n",
    "\n",
    "#s = Lambda(lambda x: x/255) (inputs)\n",
    "\n",
    "model = tf.keras.applications.VGG16(\n",
    "    include_top=True,\n",
    "    weights=None,\n",
    "    input_tensor=None,\n",
    "    input_shape=(210,210,3),\n",
    "    pooling=None,\n",
    "    classes=1,\n",
    "    classifier_activation=\"sigmoid\",\n",
    ")\n",
    "'''#'''"
   ]
  },
  {
   "cell_type": "code",
   "execution_count": 55,
   "metadata": {
    "execution": {
     "iopub.execute_input": "2021-06-14T12:19:44.561726Z",
     "iopub.status.busy": "2021-06-14T12:19:44.561451Z",
     "iopub.status.idle": "2021-06-14T12:19:44.574179Z",
     "shell.execute_reply": "2021-06-14T12:19:44.573058Z",
     "shell.execute_reply.started": "2021-06-14T12:19:44.561698Z"
    }
   },
   "outputs": [],
   "source": [
    "#model.summary()"
   ]
  },
  {
   "cell_type": "code",
   "execution_count": 56,
   "metadata": {
    "execution": {
     "iopub.execute_input": "2021-06-14T12:19:44.575919Z",
     "iopub.status.busy": "2021-06-14T12:19:44.575639Z",
     "iopub.status.idle": "2021-06-14T12:19:44.613065Z",
     "shell.execute_reply": "2021-06-14T12:19:44.611908Z",
     "shell.execute_reply.started": "2021-06-14T12:19:44.575892Z"
    }
   },
   "outputs": [],
   "source": [
    "from keras.optimizers import Adam, RMSprop\n",
    "#adam_opt = Adam(lr=1e-5, beta_1=0.9, beta_2=0.999, epsilon=1e-08, decay=1e-5)\n",
    "sgd_opt = SGD(lr=1e-06, momentum=0.0, decay=0.0, nesterov=False)\n",
    "#rmsp_opt = RMSprop(lr=1e-4, decay=0.9)\n",
    "# eve_opt = Eve(lr=1e-4, decay=1E-4, beta_1=0.9, beta_2=0.999, beta_3=0.999, small_k=0.1, big_K=10, epsilon=1e-08)\n",
    "\n",
    "model.compile(optimizer= sgd_opt,\n",
    "              loss = 'binary_crossentropy',\n",
    "              metrics=['accuracy'])"
   ]
  },
  {
   "cell_type": "code",
   "execution_count": 57,
   "metadata": {
    "execution": {
     "iopub.execute_input": "2021-06-14T12:19:44.614719Z",
     "iopub.status.busy": "2021-06-14T12:19:44.614439Z",
     "iopub.status.idle": "2021-06-14T12:19:44.619513Z",
     "shell.execute_reply": "2021-06-14T12:19:44.618429Z",
     "shell.execute_reply.started": "2021-06-14T12:19:44.614689Z"
    }
   },
   "outputs": [],
   "source": [
    "import keras\n",
    "callbacks = [\n",
    "    keras.callbacks.ModelCheckpoint('baseline_vgg.h5', monitor='val_accuracy', save_best_only=True, mode='max'),\n",
    "    keras.callbacks.ReduceLROnPlateau(monitor='val_accuracy', factor=0.1, verbose=1, patience=5, mode='max')]\n"
   ]
  },
  {
   "cell_type": "code",
   "execution_count": 58,
   "metadata": {
    "execution": {
     "iopub.execute_input": "2021-06-14T12:19:44.620961Z",
     "iopub.status.busy": "2021-06-14T12:19:44.620620Z",
     "iopub.status.idle": "2021-06-14T12:19:44.636448Z",
     "shell.execute_reply": "2021-06-14T12:19:44.635366Z",
     "shell.execute_reply.started": "2021-06-14T12:19:44.620933Z"
    }
   },
   "outputs": [
    {
     "name": "stdout",
     "output_type": "stream",
     "text": [
      "84 15\n"
     ]
    }
   ],
   "source": [
    "import math\n",
    "BATCH_SIZE=128\n",
    "\n",
    "TRAINING_SIZE = x_train.shape[0]\n",
    "\n",
    "VALIDATION_SIZE = x_val.shape[0]\n",
    "\n",
    "compute_steps_per_epoch = lambda x: int(math.ceil(1. * x / BATCH_SIZE))\n",
    "train_steps_per_epoch = compute_steps_per_epoch(TRAINING_SIZE)\n",
    "val_steps = compute_steps_per_epoch(VALIDATION_SIZE)\n",
    "print(train_steps_per_epoch, val_steps)"
   ]
  },
  {
   "cell_type": "code",
   "execution_count": 59,
   "metadata": {
    "execution": {
     "iopub.execute_input": "2021-06-14T12:19:44.638042Z",
     "iopub.status.busy": "2021-06-14T12:19:44.637678Z",
     "iopub.status.idle": "2021-06-14T12:26:09.495612Z",
     "shell.execute_reply": "2021-06-14T12:26:09.494635Z",
     "shell.execute_reply.started": "2021-06-14T12:19:44.638012Z"
    }
   },
   "outputs": [
    {
     "name": "stdout",
     "output_type": "stream",
     "text": [
      "Epoch 1/50\n",
      "84/84 [==============================] - 35s 304ms/step - loss: 0.6931 - accuracy: 0.5585 - val_loss: 0.6931 - val_accuracy: 0.6042\n",
      "Epoch 2/50\n",
      "84/84 [==============================] - 7s 80ms/step - loss: 0.6931 - accuracy: 0.6452 - val_loss: 0.6931 - val_accuracy: 0.6272\n",
      "Epoch 3/50\n",
      "84/84 [==============================] - 7s 80ms/step - loss: 0.6931 - accuracy: 0.6748 - val_loss: 0.6931 - val_accuracy: 0.6470\n",
      "Epoch 4/50\n",
      "84/84 [==============================] - 7s 79ms/step - loss: 0.6931 - accuracy: 0.6834 - val_loss: 0.6931 - val_accuracy: 0.6502\n",
      "Epoch 5/50\n",
      "84/84 [==============================] - 7s 79ms/step - loss: 0.6931 - accuracy: 0.6799 - val_loss: 0.6931 - val_accuracy: 0.6518\n",
      "Epoch 6/50\n",
      "84/84 [==============================] - 7s 79ms/step - loss: 0.6931 - accuracy: 0.6881 - val_loss: 0.6931 - val_accuracy: 0.6529\n",
      "Epoch 7/50\n",
      "84/84 [==============================] - 7s 79ms/step - loss: 0.6931 - accuracy: 0.6906 - val_loss: 0.6931 - val_accuracy: 0.6529\n",
      "Epoch 8/50\n",
      "84/84 [==============================] - 7s 80ms/step - loss: 0.6931 - accuracy: 0.6796 - val_loss: 0.6931 - val_accuracy: 0.6529\n",
      "Epoch 9/50\n",
      "84/84 [==============================] - 7s 80ms/step - loss: 0.6931 - accuracy: 0.6755 - val_loss: 0.6931 - val_accuracy: 0.6529\n",
      "Epoch 10/50\n",
      "84/84 [==============================] - 7s 80ms/step - loss: 0.6931 - accuracy: 0.6746 - val_loss: 0.6931 - val_accuracy: 0.6529\n",
      "Epoch 11/50\n",
      "84/84 [==============================] - 7s 80ms/step - loss: 0.6931 - accuracy: 0.6742 - val_loss: 0.6931 - val_accuracy: 0.6529\n",
      "\n",
      "Epoch 00011: ReduceLROnPlateau reducing learning rate to 9.999999974752428e-08.\n",
      "Epoch 12/50\n",
      "84/84 [==============================] - 7s 80ms/step - loss: 0.6930 - accuracy: 0.6778 - val_loss: 0.6931 - val_accuracy: 0.6529\n",
      "Epoch 13/50\n",
      "84/84 [==============================] - 7s 80ms/step - loss: 0.6930 - accuracy: 0.6892 - val_loss: 0.6931 - val_accuracy: 0.6529\n",
      "Epoch 14/50\n",
      "84/84 [==============================] - 7s 79ms/step - loss: 0.6930 - accuracy: 0.6867 - val_loss: 0.6931 - val_accuracy: 0.6529\n",
      "Epoch 15/50\n",
      "84/84 [==============================] - 7s 79ms/step - loss: 0.6930 - accuracy: 0.6836 - val_loss: 0.6931 - val_accuracy: 0.6529\n",
      "Epoch 16/50\n",
      "84/84 [==============================] - 7s 79ms/step - loss: 0.6930 - accuracy: 0.6856 - val_loss: 0.6931 - val_accuracy: 0.6529\n",
      "\n",
      "Epoch 00016: ReduceLROnPlateau reducing learning rate to 1.0000000116860975e-08.\n",
      "Epoch 17/50\n",
      "84/84 [==============================] - 7s 80ms/step - loss: 0.6930 - accuracy: 0.6845 - val_loss: 0.6931 - val_accuracy: 0.6529\n",
      "Epoch 18/50\n",
      "84/84 [==============================] - 7s 80ms/step - loss: 0.6930 - accuracy: 0.6788 - val_loss: 0.6931 - val_accuracy: 0.6529\n",
      "Epoch 19/50\n",
      "84/84 [==============================] - 7s 79ms/step - loss: 0.6930 - accuracy: 0.6858 - val_loss: 0.6931 - val_accuracy: 0.6529\n",
      "Epoch 20/50\n",
      "84/84 [==============================] - 7s 79ms/step - loss: 0.6930 - accuracy: 0.6807 - val_loss: 0.6931 - val_accuracy: 0.6529\n",
      "Epoch 21/50\n",
      "84/84 [==============================] - 7s 79ms/step - loss: 0.6930 - accuracy: 0.6819 - val_loss: 0.6931 - val_accuracy: 0.6529\n",
      "\n",
      "Epoch 00021: ReduceLROnPlateau reducing learning rate to 9.999999939225292e-10.\n",
      "Epoch 22/50\n",
      "84/84 [==============================] - 7s 80ms/step - loss: 0.6930 - accuracy: 0.6926 - val_loss: 0.6931 - val_accuracy: 0.6529\n",
      "Epoch 23/50\n",
      "84/84 [==============================] - 7s 80ms/step - loss: 0.6930 - accuracy: 0.6740 - val_loss: 0.6931 - val_accuracy: 0.6529\n",
      "Epoch 24/50\n",
      "84/84 [==============================] - 7s 80ms/step - loss: 0.6930 - accuracy: 0.6846 - val_loss: 0.6931 - val_accuracy: 0.6529\n",
      "Epoch 25/50\n",
      "84/84 [==============================] - 7s 85ms/step - loss: 0.6930 - accuracy: 0.6842 - val_loss: 0.6931 - val_accuracy: 0.6529\n",
      "Epoch 26/50\n",
      "84/84 [==============================] - 7s 80ms/step - loss: 0.6930 - accuracy: 0.6794 - val_loss: 0.6931 - val_accuracy: 0.6529\n",
      "\n",
      "Epoch 00026: ReduceLROnPlateau reducing learning rate to 9.999999717180686e-11.\n",
      "Epoch 27/50\n",
      "84/84 [==============================] - 7s 80ms/step - loss: 0.6930 - accuracy: 0.6807 - val_loss: 0.6931 - val_accuracy: 0.6529\n",
      "Epoch 28/50\n",
      "84/84 [==============================] - 7s 80ms/step - loss: 0.6930 - accuracy: 0.6782 - val_loss: 0.6931 - val_accuracy: 0.6529\n",
      "Epoch 29/50\n",
      "84/84 [==============================] - 7s 80ms/step - loss: 0.6930 - accuracy: 0.6808 - val_loss: 0.6931 - val_accuracy: 0.6529\n",
      "Epoch 30/50\n",
      "84/84 [==============================] - 7s 80ms/step - loss: 0.6930 - accuracy: 0.6760 - val_loss: 0.6931 - val_accuracy: 0.6529\n",
      "Epoch 31/50\n",
      "84/84 [==============================] - 7s 80ms/step - loss: 0.6930 - accuracy: 0.6849 - val_loss: 0.6931 - val_accuracy: 0.6529\n",
      "\n",
      "Epoch 00031: ReduceLROnPlateau reducing learning rate to 9.99999943962493e-12.\n",
      "Epoch 32/50\n",
      "84/84 [==============================] - 7s 81ms/step - loss: 0.6930 - accuracy: 0.6835 - val_loss: 0.6931 - val_accuracy: 0.6529\n",
      "Epoch 33/50\n",
      "84/84 [==============================] - 7s 81ms/step - loss: 0.6930 - accuracy: 0.6900 - val_loss: 0.6931 - val_accuracy: 0.6529\n",
      "Epoch 34/50\n",
      "84/84 [==============================] - 7s 81ms/step - loss: 0.6930 - accuracy: 0.6808 - val_loss: 0.6931 - val_accuracy: 0.6529\n",
      "Epoch 35/50\n",
      "84/84 [==============================] - 7s 80ms/step - loss: 0.6930 - accuracy: 0.6815 - val_loss: 0.6931 - val_accuracy: 0.6529\n",
      "Epoch 36/50\n",
      "84/84 [==============================] - 7s 80ms/step - loss: 0.6930 - accuracy: 0.6831 - val_loss: 0.6931 - val_accuracy: 0.6529\n",
      "\n",
      "Epoch 00036: ReduceLROnPlateau reducing learning rate to 9.999999092680235e-13.\n",
      "Epoch 37/50\n",
      "84/84 [==============================] - 7s 80ms/step - loss: 0.6930 - accuracy: 0.6783 - val_loss: 0.6931 - val_accuracy: 0.6529\n",
      "Epoch 38/50\n",
      "84/84 [==============================] - 7s 80ms/step - loss: 0.6930 - accuracy: 0.6765 - val_loss: 0.6931 - val_accuracy: 0.6529\n",
      "Epoch 39/50\n",
      "84/84 [==============================] - 7s 80ms/step - loss: 0.6930 - accuracy: 0.6827 - val_loss: 0.6931 - val_accuracy: 0.6529\n",
      "Epoch 40/50\n",
      "84/84 [==============================] - 7s 81ms/step - loss: 0.6930 - accuracy: 0.6843 - val_loss: 0.6931 - val_accuracy: 0.6529\n",
      "Epoch 41/50\n",
      "84/84 [==============================] - 7s 81ms/step - loss: 0.6930 - accuracy: 0.6803 - val_loss: 0.6931 - val_accuracy: 0.6529\n",
      "\n",
      "Epoch 00041: ReduceLROnPlateau reducing learning rate to 9.9999988758398e-14.\n",
      "Epoch 42/50\n",
      "84/84 [==============================] - 7s 80ms/step - loss: 0.6930 - accuracy: 0.6790 - val_loss: 0.6931 - val_accuracy: 0.6529\n",
      "Epoch 43/50\n",
      "84/84 [==============================] - 7s 80ms/step - loss: 0.6930 - accuracy: 0.6832 - val_loss: 0.6931 - val_accuracy: 0.6529\n",
      "Epoch 44/50\n",
      "84/84 [==============================] - 7s 80ms/step - loss: 0.6930 - accuracy: 0.6832 - val_loss: 0.6931 - val_accuracy: 0.6529\n",
      "Epoch 45/50\n",
      "84/84 [==============================] - 7s 80ms/step - loss: 0.6930 - accuracy: 0.6874 - val_loss: 0.6931 - val_accuracy: 0.6529\n",
      "Epoch 46/50\n",
      "84/84 [==============================] - 7s 80ms/step - loss: 0.6930 - accuracy: 0.6738 - val_loss: 0.6931 - val_accuracy: 0.6529\n",
      "\n",
      "Epoch 00046: ReduceLROnPlateau reducing learning rate to 9.999999146890344e-15.\n",
      "Epoch 47/50\n",
      "84/84 [==============================] - 7s 80ms/step - loss: 0.6930 - accuracy: 0.6817 - val_loss: 0.6931 - val_accuracy: 0.6529\n",
      "Epoch 48/50\n",
      "84/84 [==============================] - 7s 79ms/step - loss: 0.6930 - accuracy: 0.6773 - val_loss: 0.6931 - val_accuracy: 0.6529\n",
      "Epoch 49/50\n",
      "84/84 [==============================] - 7s 80ms/step - loss: 0.6930 - accuracy: 0.6786 - val_loss: 0.6931 - val_accuracy: 0.6529\n",
      "Epoch 50/50\n",
      "84/84 [==============================] - 7s 79ms/step - loss: 0.6930 - accuracy: 0.6834 - val_loss: 0.6931 - val_accuracy: 0.6529\n"
     ]
    }
   ],
   "source": [
    "history = model.fit(x_train, y_train, validation_data = (x_val,y_val), verbose = 1, batch_size=BATCH_SIZE, steps_per_epoch = train_steps_per_epoch, validation_steps = val_steps, epochs = 50, shuffle = True, callbacks = callbacks)"
   ]
  },
  {
   "cell_type": "code",
   "execution_count": 60,
   "metadata": {
    "execution": {
     "iopub.execute_input": "2021-06-14T12:26:09.497855Z",
     "iopub.status.busy": "2021-06-14T12:26:09.497583Z",
     "iopub.status.idle": "2021-06-14T12:26:09.651042Z",
     "shell.execute_reply": "2021-06-14T12:26:09.650228Z",
     "shell.execute_reply.started": "2021-06-14T12:26:09.497829Z"
    }
   },
   "outputs": [
    {
     "data": {
      "image/png": "[encoded data removed]",
      "text/plain": [
       "<Figure size 432x288 with 1 Axes>"
      ]
     },
     "metadata": {
      "needs_background": "light"
     },
     "output_type": "display_data"
    }
   ],
   "source": [
    "#'''                                                                                                                                                      \n",
    "plt.plot(history.history['loss'])                                                                                                                                        \n",
    "plt.plot(history.history['val_loss'])                                                                                                                                                                                                                                                     \n",
    "plt.title('Model loss')                                                                                   \n",
    "plt.ylabel('Binary_crossEntropy')                                                                                                                 \n",
    "plt.xlabel('Epoch')                                                                      \n",
    "plt.legend(['Train', 'Validation'], loc='upper left')          \n",
    "plt.show()                                                                    \n",
    "#'''                                                      "
   ]
  },
  {
   "cell_type": "code",
   "execution_count": 61,
   "metadata": {
    "execution": {
     "iopub.execute_input": "2021-06-14T12:26:09.652439Z",
     "iopub.status.busy": "2021-06-14T12:26:09.652206Z",
     "iopub.status.idle": "2021-06-14T12:26:09.785238Z",
     "shell.execute_reply": "2021-06-14T12:26:09.784569Z",
     "shell.execute_reply.started": "2021-06-14T12:26:09.652416Z"
    }
   },
   "outputs": [
    {
     "data": {
      "image/png": "[encoded data removed]",
      "text/plain": [
       "<Figure size 432x288 with 1 Axes>"
      ]
     },
     "metadata": {
      "needs_background": "light"
     },
     "output_type": "display_data"
    }
   ],
   "source": [
    "#'''                     \n",
    "plt.plot(history.history['accuracy'])                                            \n",
    "plt.plot(history.history['val_accuracy'])         \n",
    "plt.title('Model accuracy')                           \n",
    "plt.ylabel('Accuracy')                         \n",
    "plt.xlabel('Epoch')                      \n",
    "plt.legend(['Train', 'Validation'], loc='upper left')\n",
    "plt.show()\n",
    "#'''"
   ]
  },
  {
   "cell_type": "code",
   "execution_count": 62,
   "metadata": {
    "execution": {
     "iopub.execute_input": "2021-06-14T12:26:09.786456Z",
     "iopub.status.busy": "2021-06-14T12:26:09.786125Z",
     "iopub.status.idle": "2021-06-14T12:26:09.792492Z",
     "shell.execute_reply": "2021-06-14T12:26:09.791536Z",
     "shell.execute_reply.started": "2021-06-14T12:26:09.786431Z"
    }
   },
   "outputs": [
    {
     "name": "stdout",
     "output_type": "stream",
     "text": [
      "Lowest training loss:  0.6930370330810547\n",
      "Lowest validation loss:  0.6930578947067261\n",
      "Highest training accuracy:  0.6822061538696289\n",
      "Highest validation accuracy:  0.6529191136360168\n"
     ]
    }
   ],
   "source": [
    "#'''\n",
    "print('Lowest training loss: ', min(history.history['loss']))\n",
    "print('Lowest validation loss: ', min(history.history['val_loss']))        \n",
    "print('Highest training accuracy: ', max(history.history['accuracy']))\n",
    "print('Highest validation accuracy: ', max(history.history['val_accuracy']))\n",
    "#'''  "
   ]
  },
  {
   "cell_type": "code",
   "execution_count": 63,
   "metadata": {
    "execution": {
     "iopub.execute_input": "2021-06-14T12:26:09.794051Z",
     "iopub.status.busy": "2021-06-14T12:26:09.793799Z",
     "iopub.status.idle": "2021-06-14T12:26:09.805702Z",
     "shell.execute_reply": "2021-06-14T12:26:09.804872Z",
     "shell.execute_reply.started": "2021-06-14T12:26:09.794028Z"
    }
   },
   "outputs": [
    {
     "data": {
      "text/html": [
       "<a href='./baseline_vgg.h5' target='_blank'>./baseline_vgg.h5</a><br>"
      ],
      "text/plain": [
       "/kaggle/working/baseline_vgg.h5"
      ]
     },
     "execution_count": 63,
     "metadata": {},
     "output_type": "execute_result"
    }
   ],
   "source": [
    "from IPython.display import FileLink\n",
    "FileLink('./baseline_vgg.h5')    "
   ]
  }
 ],
 "metadata": {
  "kernelspec": {
   "display_name": "Python 3",
   "language": "python",
   "name": "python3"
  },
  "language_info": {
   "codemirror_mode": {
    "name": "ipython",
    "version": 3
   },
   "file_extension": ".py",
   "mimetype": "text/x-python",
   "name": "python",
   "nbconvert_exporter": "python",
   "pygments_lexer": "ipython3",
   "version": "3.8.3"
  }
 },
 "nbformat": 4,
 "nbformat_minor": 4
}
